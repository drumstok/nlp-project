{
 "cells": [
  {
   "cell_type": "code",
   "execution_count": 1,
   "metadata": {
    "collapsed": true
   },
   "outputs": [],
   "source": [
    "import pandas as pd\n",
    "import numpy as np\n",
    "import collections\n",
    "import matplotlib.pyplot as plt\n",
    "%matplotlib inline"
   ]
  },
  {
   "cell_type": "code",
   "execution_count": 2,
   "metadata": {
    "collapsed": false
   },
   "outputs": [],
   "source": [
    "%load_ext autoreload "
   ]
  },
  {
   "cell_type": "code",
   "execution_count": 3,
   "metadata": {
    "collapsed": false
   },
   "outputs": [],
   "source": [
    "%autoreload 2\n",
    "import corpuslib as cpl"
   ]
  },
  {
   "cell_type": "code",
   "execution_count": 4,
   "metadata": {
    "collapsed": false
   },
   "outputs": [],
   "source": [
    "data = cpl.load_data(data_path=\"../parsed/indices.npy\")"
   ]
  },
  {
   "cell_type": "code",
   "execution_count": 5,
   "metadata": {
    "collapsed": false
   },
   "outputs": [],
   "source": [
    "zipf_idxs, inv_zipf_idxs, counts = cpl.create_zipf_index(data=data)"
   ]
  },
  {
   "cell_type": "code",
   "execution_count": 6,
   "metadata": {
    "collapsed": false
   },
   "outputs": [],
   "source": [
    "zipfed = cpl.zipf(data=data, zipf_idxs=zipf_idxs)"
   ]
  },
  {
   "cell_type": "code",
   "execution_count": 7,
   "metadata": {
    "collapsed": true
   },
   "outputs": [],
   "source": [
    "seqs = cpl.to_sequences(data)"
   ]
  },
  {
   "cell_type": "code",
   "execution_count": 20,
   "metadata": {
    "collapsed": false
   },
   "outputs": [],
   "source": [
    "oov_widxs, (oov_seqs, iv_seqs) = cpl.sample_oov_seqs(seqs, zipf_idxs, num_oov_words=1000, \n",
    "                                                     cutoff_left=1000, cutoff_right=30000)"
   ]
  },
  {
   "cell_type": "code",
   "execution_count": 21,
   "metadata": {
    "collapsed": false
   },
   "outputs": [],
   "source": [
    "oov_seqs_train, oov_seqs_test, iv_seqs_train, iv_seqs_test = cpl.make_train_test_split(oov_seqs, iv_seqs, 0.8)"
   ]
  },
  {
   "cell_type": "code",
   "execution_count": 22,
   "metadata": {
    "collapsed": true
   },
   "outputs": [],
   "source": [
    "from discriminative import ContextSimilarityIndex"
   ]
  },
  {
   "cell_type": "code",
   "execution_count": 23,
   "metadata": {
    "collapsed": false
   },
   "outputs": [
    {
     "name": "stdout",
     "output_type": "stream",
     "text": [
      "processed 900000/1000000"
     ]
    }
   ],
   "source": [
    "csi = ContextSimilarityIndex(data=data[:1000000], counts=counts, context_size=4, \n",
    "                             oov_widxs=oov_widxs, vocab_size=30000,\n",
    "                             zipf_idxs=zipf_idxs, lamb=1e-15)"
   ]
  },
  {
   "cell_type": "code",
   "execution_count": 24,
   "metadata": {
    "collapsed": false
   },
   "outputs": [
    {
     "name": "stdout",
     "output_type": "stream",
     "text": [
      "processed 990/1000"
     ]
    }
   ],
   "source": [
    "closest = np.ndarray((len(oov_widxs)), dtype=np.int32)\n",
    "found = []\n",
    "for i, oov_widx in enumerate(oov_widxs):\n",
    "    oov_widx_unzipfed = inv_zipf_idxs[oov_widx]\n",
    "    success, closest[i] = csi.find_closest(oov_widx_unzipfed)\n",
    "    if success:\n",
    "        found.append((oov_widx_unzipfed, closest[i]))\n",
    "    if i % 10 == 0:\n",
    "        print(\"\\rprocessed {0}/{1}\".format(i, len(oov_widxs)), end=\"\")"
   ]
  },
  {
   "cell_type": "code",
   "execution_count": 25,
   "metadata": {
    "collapsed": false,
    "scrolled": false
   },
   "outputs": [
    {
     "name": "stdout",
     "output_type": "stream",
     "text": [
      "age suggestion\n",
      "gainesville yorktown\n",
      "town benefactors\n",
      "iceland kyrgyzstan\n",
      "saratoga yorktown\n",
      "philip ludwig\n",
      "mathematician historian\n",
      "numerical absolute\n",
      "summarised analyzed\n",
      "athlete actor\n",
      "orthodoxy installation\n",
      "medicine master\n",
      "victorines proletariats\n",
      "hands midst\n",
      "efforts overseers\n",
      "inclusion absence\n",
      "maintained transfered\n",
      "judge novelist\n",
      "screened discovered\n",
      "xiii zero\n",
      "kept dried\n",
      "walter arthur\n",
      "dodesukaden bitch\n",
      "today exercising\n",
      "pop seven\n",
      "deck subclassification\n",
      "medical mediaeval\n",
      "foreign patent\n",
      "designated interpreted\n",
      "dominated marked\n",
      "proved separated\n",
      "burundi chad\n",
      "democratic libertarian\n",
      "reformation arrival\n",
      "greece prussia\n",
      "contributed led\n",
      "interested popular\n",
      "german filipino\n",
      "illustrated outdone\n",
      "column land\n",
      "accessible k\n",
      "troops corruptibility\n",
      "tributary inhabitants\n",
      "robot paycock\n",
      "court illyrians\n",
      "transformation establishment\n",
      "knife blow\n",
      "laws overseers\n",
      "gore bush\n",
      "easement element\n",
      "homer dismissal\n",
      "peaceful kind\n",
      "hypothesis conquest\n",
      "screenplay picturesqueness\n",
      "factions devastation\n",
      "subspecies symbol\n",
      "curtailed nominated\n",
      "tragedy similitudes\n",
      "present greeted\n",
      "lower contiguous\n",
      "prophetic best\n",
      "left picturesqueness\n",
      "circa in\n",
      "finally never\n",
      "polar alabama\n",
      "proton occupation\n",
      "crushing action\n",
      "success picturesqueness\n",
      "translated au\n",
      "reintroduced reprinted\n",
      "seen conjectured\n",
      "openings prominent\n",
      "lowland lip\n",
      "d b\n",
      "pecuniarily very\n",
      "samaritan logo\n",
      "step flaw\n",
      "indicates was\n",
      "nerves independence\n",
      "portion splintering\n",
      "hindus muslims\n",
      "kentucky austria\n",
      "back subclassification\n",
      "can must\n",
      "format wrappings\n",
      "spoken filipino\n",
      "pilot plural\n",
      "frontier consequence\n",
      "surrender fertilization\n",
      "dropped inserted\n",
      "roughly approximately\n",
      "disk passage\n",
      "should might\n",
      "fourteenth lyceum\n",
      "afro austro\n",
      "devoted accepted\n",
      "amoeba themselves\n",
      "access trusted\n",
      "anarchists algerians\n",
      "ac am\n",
      "attributed customised\n",
      "michigan kansas\n",
      "offered offer\n",
      "greatness strength\n",
      "transition achaeans\n",
      "irv four\n",
      "participation role\n",
      "america georgia\n",
      "simplism personalities\n",
      "nbi naacp\n",
      "dinosaur un\n",
      "phoenician proper\n",
      "identified displayed\n",
      "agreement treaty\n",
      "rifle language\n",
      "extensive erected\n",
      "depressions concentrated\n",
      "entrance adoption\n",
      "offroad drag\n",
      "historical aristotelian\n",
      "rewarded awarded\n",
      "sixties luddites\n",
      "kingdom corruptibility\n",
      "vedas insas\n",
      "dakota winters\n",
      "soldiers flocked\n",
      "ostrogoths motherland\n",
      "valid such\n",
      "founded reprinted\n",
      "railway same\n",
      "overlap standpoint\n",
      "frontiers museum\n",
      "algerian american\n",
      "difficult worthwhile\n",
      "cairns aleutian\n",
      "rev zero\n",
      "fell comes\n"
     ]
    }
   ],
   "source": [
    "for orig, close in found:\n",
    "    w1 = cpl.lookup_word(orig, vocab_path=\"../parsed/vocabulary\")\n",
    "    w2 = cpl.lookup_word(close, vocab_path=\"../parsed/vocabulary\")\n",
    "    print(w1, w2)"
   ]
  },
  {
   "cell_type": "code",
   "execution_count": null,
   "metadata": {
    "collapsed": true
   },
   "outputs": [],
   "source": []
  }
 ],
 "metadata": {
  "kernelspec": {
   "display_name": "Python [default]",
   "language": "python",
   "name": "python2"
  },
  "language_info": {
   "codemirror_mode": {
    "name": "ipython",
    "version": 2
   },
   "file_extension": ".py",
   "mimetype": "text/x-python",
   "name": "python",
   "nbconvert_exporter": "python",
   "pygments_lexer": "ipython2",
   "version": "2.7.12"
  }
 },
 "nbformat": 4,
 "nbformat_minor": 1
}
