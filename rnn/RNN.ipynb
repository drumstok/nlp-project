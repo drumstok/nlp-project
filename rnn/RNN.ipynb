{
 "cells": [
  {
   "cell_type": "code",
   "execution_count": 1,
   "metadata": {
    "collapsed": false
   },
   "outputs": [],
   "source": [
    "import tensorflow as tf\n",
    "import collections\n",
    "import numpy as np"
   ]
  },
  {
   "cell_type": "code",
   "execution_count": 27,
   "metadata": {
    "collapsed": false
   },
   "outputs": [],
   "source": [
    "with open(\"/Users/pim/Downloads/enwik9tok.short\") as f:\n",
    "    data = f.read().split(\" \")\n",
    "    counter = collections.Counter(data)\n",
    "    count_pairs = sorted(counter.items(), key=lambda x: (-x[1], x[0]))\n",
    "    words, _ = list(zip(*count_pairs))\n",
    "    word_to_id = dict(zip(words, range(len(words))))\n",
    "    tokens = np.array([word_to_id[w] for w in data])\n",
    "    vocab_size = len(words)"
   ]
  },
  {
   "cell_type": "code",
   "execution_count": 28,
   "metadata": {
    "collapsed": false
   },
   "outputs": [],
   "source": [
    "batch_size = 25\n",
    "embedding_size = 5\n",
    "hidden_size = 10\n",
    "num_steps = 4\n",
    "dt = tf.float32\n",
    "\n",
    "def get_batch():\n",
    "    begins = np.random.randint(vocab_size - num_steps - 1, size=batch_size)[:,np.newaxis]\n",
    "    ranges = np.arange(num_steps, dtype=np.int)[np.newaxis,:]\n",
    "    indices = begins + ranges\n",
    "    batch_inputs = tokens[indices]\n",
    "    return batch_inputs, tokens[begins+1].reshape([-1])"
   ]
  },
  {
   "cell_type": "code",
   "execution_count": 58,
   "metadata": {
    "collapsed": false
   },
   "outputs": [
    {
     "name": "stdout",
     "output_type": "stream",
     "text": [
      "(25, 5)\n"
     ]
    }
   ],
   "source": [
    "with tf.Graph().as_default(), tf.Session() as sess:\n",
    "    input_placeholder = tf.placeholder(tf.int32, shape=(batch_size, num_steps))\n",
    "    embedding = tf.get_variable(\"embedding\", [vocab_size, embedding_size], dtype=dt)\n",
    "    input_vectors = tf.nn.embedding_lookup(embedding, input_placeholder)\n",
    "\n",
    "    cell = tf.nn.rnn_cell.BasicRNNCell(num_units=hidden_size)\n",
    "    initial_state = cell.zero_state(batch_size, dt)\n",
    "\n",
    "    inputs = [tf.squeeze(input_step, [1])\n",
    "              for input_step in tf.split(1, num_steps, input_vectors)]\n",
    "    outputs, state = tf.nn.rnn(cell, inputs, initial_state=initial_state)\n",
    "    \n",
    "    output  = outputs[-1]\n",
    "    sigmoid = tf.sigmoid(output)\n",
    "    weights = tf.Variable(tf.truncated_normal([hidden_size, embedding_size], stddev=.001))\n",
    "    bias    = tf.Variable(tf.zeros([embedding_size]))\n",
    "    activation = tf.matmul(sigmoid, weights) + bias\n",
    "    \n",
    "    target_placeholder = tf.placeholder(tf.int32, shape=[batch_size])\n",
    "    \n",
    "    init = tf.initialize_all_variables()\n",
    "    sess.run(init)\n",
    "    \n",
    "    \n",
    "    batch_inputs, batch_targets = get_batch()\n",
    "    o = sess.run(activation, feed_dict={\n",
    "        input_placeholder: batch_inputs,\n",
    "        target_placeholder: batch_targets\n",
    "    })\n",
    "    print(o.shape)"
   ]
  },
  {
   "cell_type": "code",
   "execution_count": null,
   "metadata": {
    "collapsed": true
   },
   "outputs": [],
   "source": []
  }
 ],
 "metadata": {
  "kernelspec": {
   "display_name": "Python 3",
   "language": "python",
   "name": "python3"
  },
  "language_info": {
   "codemirror_mode": {
    "name": "ipython",
    "version": 3
   },
   "file_extension": ".py",
   "mimetype": "text/x-python",
   "name": "python",
   "nbconvert_exporter": "python",
   "pygments_lexer": "ipython3",
   "version": "3.5.1"
  }
 },
 "nbformat": 4,
 "nbformat_minor": 0
}
