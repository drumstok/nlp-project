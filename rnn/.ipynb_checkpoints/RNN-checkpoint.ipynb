{
 "cells": [
  {
   "cell_type": "code",
   "execution_count": 13,
   "metadata": {
    "collapsed": false
   },
   "outputs": [],
   "source": [
    "import tensorflow as tf\n",
    "import collections\n",
    "import numpy as np\n"
   ]
  },
  {
   "cell_type": "code",
   "execution_count": 10,
   "metadata": {
    "collapsed": false
   },
   "outputs": [],
   "source": [
    "with open(\"/Users/pim/Downloads/enwik9tok.short\") as f:\n",
    "    data = f.read().split(\" \")\n",
    "    counter = collections.Counter(data)\n",
    "    count_pairs = sorted(counter.items(), key=lambda x: (-x[1], x[0]))\n",
    "    words, _ = list(zip(*count_pairs))\n",
    "    word_to_id = dict(zip(words, range(len(words))))\n",
    "    tokens = [word_to_id[w] for w in data]"
   ]
  },
  {
   "cell_type": "code",
   "execution_count": null,
   "metadata": {
    "collapsed": true
   },
   "outputs": [],
   "source": [
    "batch_size = 25\n",
    "n_hidden_units = 100\n",
    "num_steps = 10\n",
    "dt = tf.float32\n",
    "\n",
    "inputs = tf.placeholder(tf.int32, shape=(batch_size, num_steps))\n",
    "\n",
    "\n",
    "embedding = tf.get_variable(\"embedding\", [vocab_size, size], dtype=dt)\n",
    "inputs = tf.nn.embedding_lookup(embedding, inputs)\n",
    "\n",
    "cell = tf.nn.rnn_cell.BasicRNNCell(num_units=n_hidden_units)\n",
    "initial_state = cell.zero_state(batch_size, dt)\n",
    "\n",
    "inputs = [tf.squeeze(input_step, [1])\n",
    "          for input_step in tf.split(1, num_steps, inputs)]\n",
    "outputs, state = tf.nn.rnn(cell, inputs, initial_state=initial_state)\n",
    "\n"
   ]
  }
 ],
 "metadata": {
  "kernelspec": {
   "display_name": "Python 3",
   "language": "python",
   "name": "python3"
  },
  "language_info": {
   "codemirror_mode": {
    "name": "ipython",
    "version": 3
   },
   "file_extension": ".py",
   "mimetype": "text/x-python",
   "name": "python",
   "nbconvert_exporter": "python",
   "pygments_lexer": "ipython3",
   "version": "3.5.1"
  }
 },
 "nbformat": 4,
 "nbformat_minor": 0
}
