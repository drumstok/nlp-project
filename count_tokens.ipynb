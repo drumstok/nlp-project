{
 "cells": [
  {
   "cell_type": "code",
   "execution_count": 29,
   "metadata": {
    "collapsed": true
   },
   "outputs": [],
   "source": [
    "import pandas as pd\n",
    "import numpy as np\n",
    "import collections\n",
    "import matplotlib.pyplot as plt\n",
    "%matplotlib inline"
   ]
  },
  {
   "cell_type": "code",
   "execution_count": 2,
   "metadata": {
    "collapsed": true
   },
   "outputs": [],
   "source": [
    "f = open(\"../parsed/\", \"r\")"
   ]
  },
  {
   "cell_type": "code",
   "execution_count": 3,
   "metadata": {
    "collapsed": true
   },
   "outputs": [],
   "source": [
    "content = f.read()"
   ]
  },
  {
   "cell_type": "code",
   "execution_count": 5,
   "metadata": {
    "collapsed": true
   },
   "outputs": [],
   "source": [
    "a = np.load(\"../parsed/indices.npy\")"
   ]
  },
  {
   "cell_type": "code",
   "execution_count": 23,
   "metadata": {
    "collapsed": false
   },
   "outputs": [],
   "source": [
    "unique, inverse_idx, counts = np.unique(a, return_inverse=True, return_counts=True)"
   ]
  },
  {
   "cell_type": "code",
   "execution_count": 24,
   "metadata": {
    "collapsed": false
   },
   "outputs": [],
   "source": [
    "index = unique[np.argsort(counts)[::-1]]"
   ]
  },
  {
   "cell_type": "code",
   "execution_count": 42,
   "metadata": {
    "collapsed": false
   },
   "outputs": [
    {
     "data": {
      "text/plain": [
       "0.24110359408557683"
      ]
     },
     "execution_count": 42,
     "metadata": {},
     "output_type": "execute_result"
    }
   ],
   "source": [
    "counts[index][1000:30000].sum() / counts.sum()"
   ]
  },
  {
   "cell_type": "code",
   "execution_count": 34,
   "metadata": {
    "collapsed": false
   },
   "outputs": [
    {
     "data": {
      "text/plain": [
       "[<matplotlib.lines.Line2D at 0x11bf7c0f0>]"
      ]
     },
     "execution_count": 34,
     "metadata": {},
     "output_type": "execute_result"
    },
    {
     "data": {
      "image/png": "[encoded data removed]",
      "text/plain": [
       "<matplotlib.figure.Figure at 0x11b137f98>"
      ]
     },
     "metadata": {},
     "output_type": "display_data"
    }
   ],
   "source": [
    "plt.figure()\n",
    "plt.xscale(\"log\")\n",
    "plt.yscale(\"log\")\n",
    "plt.plot(counts[index], marker=\"x\", alpha=0.1)"
   ]
  },
  {
   "cell_type": "code",
   "execution_count": 46,
   "metadata": {
    "collapsed": false
   },
   "outputs": [],
   "source": [
    "contexts = a[:20*int(len(a)/20)].reshape(-1, 20)"
   ]
  },
  {
   "cell_type": "code",
   "execution_count": 49,
   "metadata": {
    "collapsed": false
   },
   "outputs": [
    {
     "data": {
      "text/plain": [
       "array([ 3, 45, 46, 47, 48, 49, 50, 15, 51,  0, 24, 52, 53, 15, 54, 55, 56,\n",
       "       57, 58, 59])"
      ]
     },
     "execution_count": 49,
     "metadata": {},
     "output_type": "execute_result"
    }
   ],
   "source": [
    "contexts[3]"
   ]
  },
  {
   "cell_type": "code",
   "execution_count": 58,
   "metadata": {
    "collapsed": true
   },
   "outputs": [],
   "source": [
    "def lookup_word(idx):\n",
    "    result = None\n",
    "    fp = open(\"../parsed/vocabulary\")\n",
    "    for i, line in enumerate(fp):\n",
    "        if i == idx:\n",
    "            result = line[:-1]\n",
    "            break\n",
    "    fp.close()\n",
    "    return result"
   ]
  },
  {
   "cell_type": "code",
   "execution_count": 65,
   "metadata": {
    "collapsed": true
   },
   "outputs": [],
   "source": [
    "def lookup_index(w):\n",
    "    result = None\n",
    "    fp = open(\"../parsed/vocabulary\")\n",
    "    for i, line in enumerate(fp):\n",
    "        if line[:-1] == w:\n",
    "            result = i\n",
    "            break\n",
    "    fp.close()\n",
    "    return result"
   ]
  },
  {
   "cell_type": "code",
   "execution_count": 206,
   "metadata": {
    "collapsed": false
   },
   "outputs": [],
   "source": [
    "left_cutoff_index = 10000\n",
    "right_cut_freq_limit = 150\n",
    "num_oov_words = 100\n",
    "\n",
    "right_cutoff_index = (counts >= right_cut_freq_limit).sum()-1"
   ]
  },
  {
   "cell_type": "code",
   "execution_count": 207,
   "metadata": {
    "collapsed": false
   },
   "outputs": [],
   "source": [
    "oov_words = np.random.choice(index[left_cutoff_index:right_cutoff_index], replace=False, size=num_oov_words)"
   ]
  },
  {
   "cell_type": "code",
   "execution_count": 208,
   "metadata": {
    "collapsed": true
   },
   "outputs": [],
   "source": [
    "def show_context(cidx):\n",
    "    result = []\n",
    "    for idx in contexts[cidx]:\n",
    "        result.append(lookup_word(idx))\n",
    "    return result"
   ]
  },
  {
   "cell_type": "code",
   "execution_count": 209,
   "metadata": {
    "collapsed": true
   },
   "outputs": [],
   "source": [
    "def get_contexts(w):\n",
    "    return np.where( (contexts == w).sum(axis=1) > 0 )[0]"
   ]
  },
  {
   "cell_type": "code",
   "execution_count": 210,
   "metadata": {
    "collapsed": false
   },
   "outputs": [
    {
     "name": "stdout",
     "output_type": "stream",
     "text": [
      "99/100"
     ]
    }
   ],
   "source": [
    "oov_contexts = []\n",
    "for i in range(0,num_oov_words):\n",
    "    print(\"\\r%d/%d\" % (i, num_oov_words), end=\"\")\n",
    "    oov_contexts += [ c for c in get_contexts(oov_words[i]) ]\n",
    "oov_contexts = np.array(oov_contexts)"
   ]
  },
  {
   "cell_type": "code",
   "execution_count": 211,
   "metadata": {
    "collapsed": false
   },
   "outputs": [
    {
     "data": {
      "text/plain": [
       "0.005091639044384064"
      ]
     },
     "execution_count": 211,
     "metadata": {},
     "output_type": "execute_result"
    }
   ],
   "source": [
    "np.unique(oov_contexts).shape[0] / contexts.shape[0]"
   ]
  },
  {
   "cell_type": "code",
   "execution_count": 222,
   "metadata": {
    "collapsed": false
   },
   "outputs": [
    {
     "data": {
      "text/plain": [
       "['manuel',\n",
       " 'm',\n",
       " 'ponce',\n",
       " 'is',\n",
       " 'recognized',\n",
       " 'as',\n",
       " 'an',\n",
       " 'important',\n",
       " 'composer',\n",
       " 'for',\n",
       " 'the',\n",
       " 'spanish',\n",
       " 'classical',\n",
       " 'guitar',\n",
       " 'responsible',\n",
       " 'for',\n",
       " 'widening',\n",
       " 'the',\n",
       " 'repertorium',\n",
       " 'for']"
      ]
     },
     "execution_count": 222,
     "metadata": {},
     "output_type": "execute_result"
    }
   ],
   "source": [
    "show_context(oov_contexts[424])"
   ]
  },
  {
   "cell_type": "code",
   "execution_count": 256,
   "metadata": {
    "collapsed": false
   },
   "outputs": [
    {
     "name": "stdout",
     "output_type": "stream",
     "text": [
      "software open source software kernel and core operating system called darwin apple also uses an open source framework called webkit\n",
      "of its design lifecycle newton had a large format screen more internal memory and a rich object oriented graphics kernel\n",
      "the plum and cherry this being replaced by a leathery coat called a hull which contains the edible kernel commonly\n",
      "one often with white flowers producing sweet almonds and the other often with pink flowers producing bitter almonds the kernel\n",
      "obtained from the dried kernel of the plant this oil has been traditionally used by massage therapists to lubricate the\n",
      "remains unchanged for every group g there is a natural group homomorphism g aut g whose kernel is the center\n",
      "linux kernel often construct abstractions where different assembly language is used on each platform the program supports but it is\n",
      "a programmer heavily involved in the development of the linux kernel since its early days one nine nine one whilst\n",
      "of the networking subsystem he then became one of the main developers and maintainers of the whole kernel alan cox\n",
      "himself his dense and friendly comments have guided many programmers on the linux kernel mailing list alan is employed by\n",
      "awards in london external links alan cox the maintainer of production version of the linux kernel ch five of ebook\n",
      "passing kernel in the consumer marketplace for several years with an efficient memory management robustness left something to be desired\n",
      "allowed its free use for the linux kernel this resulted in a messy public falling out between tridgell and linus\n",
      "in the network attached storage division for va linux systems making enhancements to samba and the linux kernel to provide\n",
      "work on samba the linux kernel and rsync tridgell was considered to have furthered an important goal of the free\n",
      "architecture introduction of six four bit kernel installed but not activated by default jfs two static lpar support the l\n",
      "budugu a character by mullapudi annamayya s songs aavakaaya a variant of mango pickle in which the kernel of mango\n",
      "api and why it matters pdf some example apis ebay evdb flickr google the linux kernel skype yahoo java paypal\n",
      "into the kernel space along with the microkernel but a vocal minority of mac developers feel that apple should move\n",
      "to a monolithic kernel similar to linux to eliminate microkernel overhead entirely litigation there have been many lawsuits centered around\n",
      "memory address address four and it basically functions as the amigaos kernel device drivers are files with a device extensions\n",
      "up the amiga rom kernel such as intuition the amiga s graphical user interface libraries exec its preemptive multitasking microkernel\n",
      "aims to make the bsd core more like the amiga architectually featuring a message passing kernel allowing for a very\n",
      "eight eight nine three one operating systems design and implementation and minix were linus torvalds inspiration for the linux kernel\n",
      "gnu c compiler to the intel three eight six architecture used in the original implementation of the linux kernel schelter\n",
      "four contains a small kernel of prophetic narrative which has been retouched by many hands some of them later than\n",
      "six roller mills have three sets of rollers the first roller crushes the whole kernel and its output is divided\n",
      "vax s virtual memory capabilities the kernel of three two v was largely rewritten by berkeley students to include a\n",
      "virtual memory implementation and a complete operating system including the new kernel ports of the two bsd utilities to the\n",
      "nine three bsd was also alternatively called virtual vax unix or vmunix for virtual memory unix and bsd kernel images\n",
      "to criticisms of bsd s performance relative to the dominant vax operating system vms the four one bsd kernel was\n",
      "summer of one nine seven three the unix kernel for the pdp one one was rewritten in c during the\n",
      "zero zero and windows xp a blue screen of death occurs when the kernel or a driver running in kernel\n",
      "dump file may be debugged later using a kernel debugger a debugger is necessary to obtain a stack trace and\n",
      "to a kernel debugger running on a separate computer windows xp also allows for local kernel debugging if a blue\n",
      "screen error is encountered while a live kernel debugger is attached to the system windows will halt execution and cause\n",
      "or the computer guru meditation amiga os equivalent bomb mac os old equivalent row of bombs atari equivalent kernel panic\n",
      "west with the iron curtain splitting central europe in half with exception for a kernel from poland to hungary the\n",
      "architectures chapters four nine easy network concepts linux kernel specific computer networks information technology networks arthur c clarke formulated the\n",
      "fork c file from the linux kernel source java registers the text to display in a tool tip the text\n",
      "openmosix kerrighed openssi full blown clusters integrated into the kernel that provide for automatic process migration among homogeneous nodes openssi\n",
      "of the unix kernel originally written in pdp one one two zero assembly language was rewritten in c this was\n",
      "copylefted creations with patented inventions see infoworld article notifying that ibm says it won t assert patents against linux kernel\n",
      "and that their contributions are part of a larger goal like developing the kernel of an os copylefting software makes\n",
      "it computer generated imagery a movie making technology computer graphics interface a low level interface between the graphical kernel system\n",
      "topology in cell biology the nucleus from latin nucleus or nuculeus kernel is found in all eukaryotic cells and contains\n",
      "blender three d brl cad computer graphics metafile cgm crystal space power render directx glut graphical kernel system gks macromedia\n",
      "conectiva s development team has expertise in amongst others the following areas linux kernel development high availability device drivers xfree\n",
      "main memory is usually managed by the operating system kernel or file system the bind dns daemon caches a mapping\n",
      "human computer interaction graphical user interface apple macintosh avie tevanian mach kernel team next mac os x ken thompson unix\n",
      "that originally referred to the kernel of any grain that is a fruit of a plant in the grass family\n",
      "the currently running process must be suspended user and kernel mode switching when a transition between user mode and kernel\n",
      "in kernel memory as opposed to the user mode stack or there may be some specific operating system defined data\n",
      "one the kernel of this map is the center of g and the image is called the inner automorphism group\n",
      "as normal programs if one of these api servers has a bug the kernel and the other servers are not\n",
      "regulator the heat kernel or exponentially regulated sum is langle e t rangle frac sum n hbar omega n exp\n",
      "this statement of principles contained the kernel of a much more radical re ordering of society than had yet taken\n",
      "debian gnu linux has been based on the linux kernel with many basic tools of the operating system from the\n",
      "ports and more packages apt was deployed during this time and the first port to a non linux kernel debian\n",
      "hurd on gnu hurd debian gnu netbsd on the netbsd kernel debian gnu kfreebsd on the freebsd kernel nexenta os\n",
      "is an unofficial port to the opensolaris kernel there have been no official releases of the non linux ports yet\n",
      "and environment strings the msx dos kernel resided in rom built in on the disk controller so basic file access\n",
      "the heart of most database applications sometimes dbmss are built around a private multitasking kernel with built in networking support\n",
      "undefined vendor specific tentatively assigned two three june two zero zero five one two nine kernel options variable length string\n",
      "own scripting language applescript with new systems userland ported frontier to windows the frontier kernel was made open source under\n",
      "up three days later companies and technologies of relevant interest userland frontier kernel manila radio userland harvard law school blogs\n",
      "the hurd as its kernel debian gnu hurd has been in development for years but still has not been officially\n",
      "stable distributions based on the linux kernel the gnu hurd operating system can be tried out using a livecd see\n",
      "seven one for the kentucky kernel a college newspaper of the university of kentucky which wanted the strip to focus\n",
      "because many device drivers execute in kernel mode software bugs often have much more damaging effects to the system this\n",
      "i e the class x is the inverse image of f x this equivalence relation is known as the kernel\n",
      "has never had code accepted into the linux kernel his sole attempt to contribute to linux the cml two configuration\n",
      "system was rejected by linux kernel developers raymond initially became known by hackers for his adoption of the jargon file\n",
      "set of square integrable functions the expansion in terms of the bernoulli polynomials has a non trivial kernel in particular\n",
      "sin two nx lies in the kernel the integral of sin two nx is vanishing on the unit interval as\n",
      "to present the gospel kernel i corinthians one five three eight acts one zero three eight four three but rather\n",
      "weighty contributions are the anonymous theological discussion the kernel and the husk one eight eight six philomythus one eight nine\n",
      "non negative generator of the kernel of the unique ring homomorphism z f which sends one one the number of\n",
      "to develop the linux kernel a free software project the following excerpt from a newsforge article illustrates why this proved\n",
      "technical advantage above freedom and community were susceptible to it a free kernel even a whole free operating system is\n",
      "will require firmness and determination a better kernel is desirable to be sure but not at the expense of weakening\n",
      "the usenet discussion between andrew s tanenbaum and linus torvalds on microkernel versus monolithic kernel operating system design has been\n",
      "chemistry organic compounds action edit plainlinks preview release action edit top kernel type monolithic kernel valign top license bsd license\n",
      "in the low level kernel locking mechanisms to enable better symmetric multiprocessor smp support releasing much of the kernel from\n",
      "the giant lock sometimes referred to as big kernel lock it is now possible for more than one process to\n",
      "execute in kernel mode at the same time other major changes include an m n threading solution called kse which\n",
      "m n where m and n are small positive integers implies that m userland threads correspond to n kernel threads\n",
      "limiting their functionality possibly because this compatibility layer only supports the system calls of linux kernel two four two a\n",
      "freebsd is released under the terms of a variety of licenses all of the kernel code and most newly created\n",
      "os x borrows heavily from freebsd including its virtual file system and network stack kernel code as well as large\n",
      "world wide web sites compiling freebsd kernel simple step by step approach a brief history of freebsd written by freebsd\n",
      "x if x is path connected then this homomorphism is surjective and its kernel is the commutator subgroup of x\n",
      "compiled kernel of the core words which the programmer uses to define new words for the application the application once\n",
      "of the linux kernel brad cox objective c mark crispin inventor of imap author of uw imap one of the\n",
      "kon wium lie co author of cascading style sheets robert love linux kernel developer ada lovelace first programmer of babbage\n",
      "browser debugger and inspector and with tim mott the gypsy word processor avie tevanian author of the mach kernel ken\n",
      "current maintainer of the linux kernel roy trubshaw mud together with richard bartle the father of muds andrew tridgell samba\n",
      "i andorra kernel language andorra prolog andrei markov andrew file system andrew fluegelman andrew message system andrew project andrew s\n"
     ]
    },
    {
     "ename": "KeyboardInterrupt",
     "evalue": "",
     "output_type": "error",
     "traceback": [
      "\u001b[0;31m---------------------------------------------------------------------------\u001b[0m",
      "\u001b[0;31mKeyboardInterrupt\u001b[0m                         Traceback (most recent call last)",
      "\u001b[0;32m<ipython-input-256-53e3e113f1a5>\u001b[0m in \u001b[0;36m<module>\u001b[0;34m()\u001b[0m\n\u001b[1;32m      1\u001b[0m \u001b[0;32mfor\u001b[0m \u001b[0mcidx\u001b[0m \u001b[0;32min\u001b[0m \u001b[0mget_contexts\u001b[0m\u001b[0;34m(\u001b[0m\u001b[0mlookup_index\u001b[0m\u001b[0;34m(\u001b[0m\u001b[0;34m\"kernel\"\u001b[0m\u001b[0;34m)\u001b[0m\u001b[0;34m)\u001b[0m\u001b[0;34m:\u001b[0m\u001b[0;34m\u001b[0m\u001b[0m\n\u001b[0;32m----> 2\u001b[0;31m     \u001b[0mprint\u001b[0m\u001b[0;34m(\u001b[0m\u001b[0;34m\" \"\u001b[0m\u001b[0;34m.\u001b[0m\u001b[0mjoin\u001b[0m\u001b[0;34m(\u001b[0m\u001b[0mshow_context\u001b[0m\u001b[0;34m(\u001b[0m\u001b[0mcidx\u001b[0m\u001b[0;34m)\u001b[0m\u001b[0;34m)\u001b[0m\u001b[0;34m)\u001b[0m\u001b[0;34m\u001b[0m\u001b[0m\n\u001b[0m",
      "\u001b[0;32m<ipython-input-208-03db307544a4>\u001b[0m in \u001b[0;36mshow_context\u001b[0;34m(cidx)\u001b[0m\n\u001b[1;32m      2\u001b[0m     \u001b[0mresult\u001b[0m \u001b[0;34m=\u001b[0m \u001b[0;34m[\u001b[0m\u001b[0;34m]\u001b[0m\u001b[0;34m\u001b[0m\u001b[0m\n\u001b[1;32m      3\u001b[0m     \u001b[0;32mfor\u001b[0m \u001b[0midx\u001b[0m \u001b[0;32min\u001b[0m \u001b[0mcontexts\u001b[0m\u001b[0;34m[\u001b[0m\u001b[0mcidx\u001b[0m\u001b[0;34m]\u001b[0m\u001b[0;34m:\u001b[0m\u001b[0;34m\u001b[0m\u001b[0m\n\u001b[0;32m----> 4\u001b[0;31m         \u001b[0mresult\u001b[0m\u001b[0;34m.\u001b[0m\u001b[0mappend\u001b[0m\u001b[0;34m(\u001b[0m\u001b[0mlookup_word\u001b[0m\u001b[0;34m(\u001b[0m\u001b[0midx\u001b[0m\u001b[0;34m)\u001b[0m\u001b[0;34m)\u001b[0m\u001b[0;34m\u001b[0m\u001b[0m\n\u001b[0m\u001b[1;32m      5\u001b[0m     \u001b[0;32mreturn\u001b[0m \u001b[0mresult\u001b[0m\u001b[0;34m\u001b[0m\u001b[0m\n",
      "\u001b[0;32m<ipython-input-58-1d2a600e6a1b>\u001b[0m in \u001b[0;36mlookup_word\u001b[0;34m(w)\u001b[0m\n\u001b[1;32m      3\u001b[0m     \u001b[0mfp\u001b[0m \u001b[0;34m=\u001b[0m \u001b[0mopen\u001b[0m\u001b[0;34m(\u001b[0m\u001b[0;34m\"../parsed/vocabulary\"\u001b[0m\u001b[0;34m)\u001b[0m\u001b[0;34m\u001b[0m\u001b[0m\n\u001b[1;32m      4\u001b[0m     \u001b[0;32mfor\u001b[0m \u001b[0mi\u001b[0m\u001b[0;34m,\u001b[0m \u001b[0mline\u001b[0m \u001b[0;32min\u001b[0m \u001b[0menumerate\u001b[0m\u001b[0;34m(\u001b[0m\u001b[0mfp\u001b[0m\u001b[0;34m)\u001b[0m\u001b[0;34m:\u001b[0m\u001b[0;34m\u001b[0m\u001b[0m\n\u001b[0;32m----> 5\u001b[0;31m         \u001b[0;32mif\u001b[0m \u001b[0mi\u001b[0m \u001b[0;34m==\u001b[0m \u001b[0mw\u001b[0m\u001b[0;34m:\u001b[0m\u001b[0;34m\u001b[0m\u001b[0m\n\u001b[0m\u001b[1;32m      6\u001b[0m             \u001b[0mresult\u001b[0m \u001b[0;34m=\u001b[0m \u001b[0mline\u001b[0m\u001b[0;34m[\u001b[0m\u001b[0;34m:\u001b[0m\u001b[0;34m-\u001b[0m\u001b[0;36m1\u001b[0m\u001b[0;34m]\u001b[0m\u001b[0;34m\u001b[0m\u001b[0m\n\u001b[1;32m      7\u001b[0m         \u001b[0;32melif\u001b[0m \u001b[0mi\u001b[0m \u001b[0;34m>\u001b[0m \u001b[0mw\u001b[0m\u001b[0;34m:\u001b[0m\u001b[0;34m\u001b[0m\u001b[0m\n",
      "\u001b[0;31mKeyboardInterrupt\u001b[0m: "
     ]
    }
   ],
   "source": [
    "for cidx in get_contexts(lookup_index(\"kernel\")):\n",
    "    print(\" \".join(show_context(cidx)))"
   ]
  },
  {
   "cell_type": "code",
   "execution_count": null,
   "metadata": {
    "collapsed": true
   },
   "outputs": [],
   "source": []
  }
 ],
 "metadata": {
  "kernelspec": {
   "display_name": "IPython (Python 3)",
   "language": "python",
   "name": "python3"
  },
  "language_info": {
   "codemirror_mode": {
    "name": "ipython",
    "version": 3
   },
   "file_extension": ".py",
   "mimetype": "text/x-python",
   "name": "python",
   "nbconvert_exporter": "python",
   "pygments_lexer": "ipython3",
   "version": "3.5.2"
  }
 },
 "nbformat": 4,
 "nbformat_minor": 1
}
